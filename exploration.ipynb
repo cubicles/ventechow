{
 "cells": [
  {
   "cell_type": "code",
   "execution_count": 1,
   "id": "941e073d-7d9b-457f-a4cc-ed6dc803dfbb",
   "metadata": {},
   "outputs": [],
   "source": [
    "# exploration.mp3"
   ]
  },
  {
   "cell_type": "code",
   "execution_count": 7,
   "id": "00f2b613-ca97-4608-a9b8-a83c851a7d12",
   "metadata": {},
   "outputs": [],
   "source": [
    "from sklearn import linear_model\n",
    "from sklearn.model_selection import train_test_split\n",
    "from sklearn.linear_model import LinearRegression\n",
    "from sklearn.metrics import mean_squared_error\n",
    "\n",
    "import pandas as pd\n",
    "import joblib"
   ]
  },
  {
   "cell_type": "code",
   "execution_count": 3,
   "id": "daedd698-719a-4a91-9fcb-6e493a0a54c9",
   "metadata": {},
   "outputs": [
    {
     "name": "stdout",
     "output_type": "stream",
     "text": [
      "Size: 108\n"
     ]
    },
    {
     "data": {
      "text/html": [
       "<div>\n",
       "<style scoped>\n",
       "    .dataframe tbody tr th:only-of-type {\n",
       "        vertical-align: middle;\n",
       "    }\n",
       "\n",
       "    .dataframe tbody tr th {\n",
       "        vertical-align: top;\n",
       "    }\n",
       "\n",
       "    .dataframe thead th {\n",
       "        text-align: right;\n",
       "    }\n",
       "</style>\n",
       "<table border=\"1\" class=\"dataframe\">\n",
       "  <thead>\n",
       "    <tr style=\"text-align: right;\">\n",
       "      <th></th>\n",
       "      <th>x</th>\n",
       "      <th>He_Hd</th>\n",
       "      <th>h_Hd</th>\n",
       "    </tr>\n",
       "  </thead>\n",
       "  <tbody>\n",
       "    <tr>\n",
       "      <th>0</th>\n",
       "      <td>0.800000</td>\n",
       "      <td>0.227553</td>\n",
       "      <td>0.2</td>\n",
       "    </tr>\n",
       "    <tr>\n",
       "      <th>1</th>\n",
       "      <td>0.825000</td>\n",
       "      <td>0.314535</td>\n",
       "      <td>0.2</td>\n",
       "    </tr>\n",
       "    <tr>\n",
       "      <th>2</th>\n",
       "      <td>0.850000</td>\n",
       "      <td>0.403780</td>\n",
       "      <td>0.2</td>\n",
       "    </tr>\n",
       "    <tr>\n",
       "      <th>3</th>\n",
       "      <td>0.860278</td>\n",
       "      <td>0.442193</td>\n",
       "      <td>0.2</td>\n",
       "    </tr>\n",
       "    <tr>\n",
       "      <th>4</th>\n",
       "      <td>0.872778</td>\n",
       "      <td>0.496438</td>\n",
       "      <td>0.2</td>\n",
       "    </tr>\n",
       "  </tbody>\n",
       "</table>\n",
       "</div>"
      ],
      "text/plain": [
       "          x     He_Hd  h_Hd\n",
       "0  0.800000  0.227553   0.2\n",
       "1  0.825000  0.314535   0.2\n",
       "2  0.850000  0.403780   0.2\n",
       "3  0.860278  0.442193   0.2\n",
       "4  0.872778  0.496438   0.2"
      ]
     },
     "execution_count": 3,
     "metadata": {},
     "output_type": "execute_result"
    }
   ],
   "source": [
    "# Reads\n",
    "\n",
    "def read_curve(filename: str) -> pd.DataFrame:\n",
    "    df = pd.read_csv(filename, header=None, sep=';')\n",
    "    df.columns = ['x', 'He_Hd', 'h_Hd']\n",
    "    return df\n",
    "\n",
    "curve020_df = read_curve('data/wes_curve_020.csv')\n",
    "curve033_df = read_curve('data/wes_curve_033.csv')\n",
    "curve067_df = read_curve('data/wes_curve_067.csv')\n",
    "\n",
    "curves_df = pd.concat([curve020_df,curve067_df,curve033_df], ignore_index=True)\n",
    "print(f\"Size: {curves_df.shape[0]}\")\n",
    "curves_df.describe()\n",
    "curves_df.head()"
   ]
  },
  {
   "cell_type": "code",
   "execution_count": 4,
   "id": "0a7c350b-d2cc-465d-802c-88376fbd7a11",
   "metadata": {},
   "outputs": [
    {
     "name": "stdout",
     "output_type": "stream",
     "text": [
      "Mean Squared Error: 0.00017987784191619258\n"
     ]
    }
   ],
   "source": [
    "# Naive method: Linear Regressor\n",
    "\n",
    "# inputs and output\n",
    "X = curves_df[['He_Hd', 'h_Hd']]\n",
    "y = curves_df['x']\n",
    "\n",
    "# split using the funny number\n",
    "X_train, X_test, y_train, y_test = train_test_split(X, y, test_size=0.2, random_state=69)\n",
    "\n",
    "# train\n",
    "reg = LinearRegression().fit(X_train, y_train)\n",
    "\n",
    "# predict\n",
    "y_pred = reg.predict(X_test)\n",
    "mse = mean_squared_error(y_test, y_pred)\n",
    "print(f\"Mean Squared Error: {mse}\")"
   ]
  },
  {
   "cell_type": "code",
   "execution_count": 5,
   "id": "51f8c564-ccfc-4c97-928e-85142988961a",
   "metadata": {},
   "outputs": [
    {
     "name": "stdout",
     "output_type": "stream",
     "text": [
      "[0.9647642]\n"
     ]
    }
   ],
   "source": [
    "# predict: Linear Regressor\n",
    "\n",
    "sample_df =  pd.DataFrame({\n",
    "                          'He_Hd': [1.1],  # He/Hd \n",
    "                          'h_Hd': [0.2],  # h/Hd\n",
    "                          })\n",
    "\n",
    "predicted_C_Cd = reg.predict(sample_df)\n",
    "print(predicted_C_Cd)"
   ]
  },
  {
   "cell_type": "code",
   "execution_count": 8,
   "id": "9fad0715-5ab9-4276-9bb6-20ab7b89847a",
   "metadata": {},
   "outputs": [
    {
     "data": {
      "text/plain": [
       "['model.pkl']"
      ]
     },
     "execution_count": 8,
     "metadata": {},
     "output_type": "execute_result"
    }
   ],
   "source": [
    "# dumping the model\n",
    "joblib.dump(reg, 'model.pkl')"
   ]
  },
  {
   "cell_type": "code",
   "execution_count": 11,
   "id": "d4291b7b-7ef3-471d-9559-c0feebb53fd2",
   "metadata": {},
   "outputs": [
    {
     "data": {
      "text/plain": [
       "array([0.9647642])"
      ]
     },
     "execution_count": 11,
     "metadata": {},
     "output_type": "execute_result"
    }
   ],
   "source": [
    "# testing the dump\n",
    "vtmodel = joblib.load('model.pkl')\n",
    "vtmodel.predict(sample_df)"
   ]
  },
  {
   "cell_type": "code",
   "execution_count": null,
   "id": "4f6a5182-f03d-4ea8-8887-2be133ee7d87",
   "metadata": {},
   "outputs": [],
   "source": []
  }
 ],
 "metadata": {
  "kernelspec": {
   "display_name": "Python 3 (ipykernel)",
   "language": "python",
   "name": "python3"
  },
  "language_info": {
   "codemirror_mode": {
    "name": "ipython",
    "version": 3
   },
   "file_extension": ".py",
   "mimetype": "text/x-python",
   "name": "python",
   "nbconvert_exporter": "python",
   "pygments_lexer": "ipython3",
   "version": "3.9.6"
  }
 },
 "nbformat": 4,
 "nbformat_minor": 5
}
